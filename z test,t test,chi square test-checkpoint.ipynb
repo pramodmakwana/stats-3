{
 "cells": [
  {
   "cell_type": "markdown",
   "id": "6a41fcba",
   "metadata": {},
   "source": [
    "z- test\n",
    "t - test\n",
    "chi-square test"
   ]
  },
  {
   "cell_type": "code",
   "execution_count": 5,
   "id": "b9af16a8",
   "metadata": {},
   "outputs": [],
   "source": [
    "import numpy as np\n",
    "import scipy.stats as stats"
   ]
  },
  {
   "cell_type": "code",
   "execution_count": 6,
   "id": "21c8060d",
   "metadata": {},
   "outputs": [],
   "source": [
    "sample_mean = 110\n",
    "population_mean=100\n",
    "population_std=15\n",
    "sample_size=50\n",
    "alpha=0.05\n"
   ]
  },
  {
   "cell_type": "code",
   "execution_count": 7,
   "id": "8ede6637",
   "metadata": {},
   "outputs": [],
   "source": [
    "confidence_interval=1-0.05"
   ]
  },
  {
   "cell_type": "code",
   "execution_count": 8,
   "id": "f66d4d5a",
   "metadata": {},
   "outputs": [
    {
     "data": {
      "text/plain": [
       "0.95"
      ]
     },
     "execution_count": 8,
     "metadata": {},
     "output_type": "execute_result"
    }
   ],
   "source": [
    "confidence_interval"
   ]
  },
  {
   "cell_type": "code",
   "execution_count": 9,
   "id": "5baf38e9",
   "metadata": {},
   "outputs": [],
   "source": [
    "z_score = (sample_mean-population_mean)/(population_std/np.sqrt(50))"
   ]
  },
  {
   "cell_type": "code",
   "execution_count": 10,
   "id": "6f558e5f",
   "metadata": {},
   "outputs": [
    {
     "data": {
      "text/plain": [
       "4.714045207910317"
      ]
     },
     "execution_count": 10,
     "metadata": {},
     "output_type": "execute_result"
    }
   ],
   "source": [
    "z_score"
   ]
  },
  {
   "cell_type": "code",
   "execution_count": 11,
   "id": "865bc47d",
   "metadata": {},
   "outputs": [],
   "source": [
    "z_critical=stats.norm.ppf(confidence_interval)"
   ]
  },
  {
   "cell_type": "code",
   "execution_count": 12,
   "id": "d653ae02",
   "metadata": {},
   "outputs": [
    {
     "name": "stdout",
     "output_type": "stream",
     "text": [
      "reject the null hypothesis\n"
     ]
    }
   ],
   "source": [
    "if z_score>z_critical:\n",
    "    print(\"reject the null hypothesis\")\n",
    "else:\n",
    "    print(\"fail to reject the null hypothesis\")"
   ]
  },
  {
   "cell_type": "code",
   "execution_count": 13,
   "id": "2132f46a",
   "metadata": {},
   "outputs": [],
   "source": [
    "p_value=1-0.999966"
   ]
  },
  {
   "cell_type": "code",
   "execution_count": 14,
   "id": "6d9730e7",
   "metadata": {},
   "outputs": [
    {
     "data": {
      "text/plain": [
       "3.399999999997849e-05"
      ]
     },
     "execution_count": 14,
     "metadata": {},
     "output_type": "execute_result"
    }
   ],
   "source": [
    "p_value"
   ]
  },
  {
   "cell_type": "code",
   "execution_count": 15,
   "id": "6f3e06d6",
   "metadata": {},
   "outputs": [
    {
     "name": "stdout",
     "output_type": "stream",
     "text": [
      "reject the null hypothesis\n"
     ]
    }
   ],
   "source": [
    "if p_value<alpha:\n",
    "    print(\"reject the null hypothesis\")\n",
    "    \n",
    "else:\n",
    "    print(\"fail to reject the null hypothesis\")"
   ]
  },
  {
   "cell_type": "code",
   "execution_count": 16,
   "id": "86ff2c6f",
   "metadata": {},
   "outputs": [],
   "source": [
    "from numpy.random import randn\n",
    "mydata=randn(500)"
   ]
  },
  {
   "cell_type": "code",
   "execution_count": 17,
   "id": "aa64da3d",
   "metadata": {},
   "outputs": [],
   "source": [
    "import seaborn as sns"
   ]
  },
  {
   "cell_type": "code",
   "execution_count": 18,
   "id": "4423fec3",
   "metadata": {},
   "outputs": [
    {
     "name": "stderr",
     "output_type": "stream",
     "text": [
      "C:\\Users\\Home\\AppData\\Local\\Temp\\ipykernel_10656\\2553040580.py:1: UserWarning: \n",
      "\n",
      "`distplot` is a deprecated function and will be removed in seaborn v0.14.0.\n",
      "\n",
      "Please adapt your code to use either `displot` (a figure-level function with\n",
      "similar flexibility) or `histplot` (an axes-level function for histograms).\n",
      "\n",
      "For a guide to updating your code to use the new functions, please see\n",
      "https://gist.github.com/mwaskom/de44147ed2974457ad6372750bbe5751\n",
      "\n",
      "  sns.distplot(mydata)\n"
     ]
    },
    {
     "data": {
      "text/plain": [
       "<Axes: ylabel='Density'>"
      ]
     },
     "execution_count": 18,
     "metadata": {},
     "output_type": "execute_result"
    },
    {
     "data": {
      "image/png": "[encoded data removed]",
      "text/plain": [
       "<Figure size 640x480 with 1 Axes>"
      ]
     },
     "metadata": {},
     "output_type": "display_data"
    }
   ],
   "source": [
    "sns.distplot(mydata)"
   ]
  },
  {
   "cell_type": "code",
   "execution_count": 19,
   "id": "2d168e3f",
   "metadata": {},
   "outputs": [
    {
     "data": {
      "text/plain": [
       "NormaltestResult(statistic=2.0193759685709214, pvalue=0.3643326393475792)"
      ]
     },
     "execution_count": 19,
     "metadata": {},
     "output_type": "execute_result"
    }
   ],
   "source": [
    "from scipy import stats\n",
    "stats.normaltest(mydata)"
   ]
  },
  {
   "cell_type": "code",
   "execution_count": 20,
   "id": "d35b85ac",
   "metadata": {},
   "outputs": [],
   "source": [
    "sample_mean_iq=110\n",
    "alpha =0.05\n",
    "CI= 0.95\n"
   ]
  },
  {
   "cell_type": "code",
   "execution_count": 21,
   "id": "9f1df988",
   "metadata": {},
   "outputs": [],
   "source": [
    "mean_population =100\n",
    "population_std = 15"
   ]
  },
  {
   "cell_type": "code",
   "execution_count": 22,
   "id": "bb381c31",
   "metadata": {},
   "outputs": [],
   "source": [
    "data=population_std*randn(50)+sample_mean_iq"
   ]
  },
  {
   "cell_type": "code",
   "execution_count": 23,
   "id": "e3b5a0a5",
   "metadata": {},
   "outputs": [
    {
     "data": {
      "text/plain": [
       "array([126.39146654, 120.6445527 , 107.47392964,  87.56731534,\n",
       "       103.55026894, 100.20315343, 100.70400299,  98.77307799,\n",
       "       128.51905304, 137.35333569, 141.65083282, 100.97399161,\n",
       "       123.64087785,  91.74690114, 123.13186011, 123.89405464,\n",
       "       143.92189618,  85.94860126,  89.75043083, 118.09031796,\n",
       "        98.46117113,  91.00831483, 120.90964517, 122.1943567 ,\n",
       "       106.84358516,  93.10087716, 112.33828382, 113.61442378,\n",
       "        94.25482617, 112.47544679, 103.72119532, 101.02835591,\n",
       "       108.46140991,  89.41419547, 107.59421566, 109.20180803,\n",
       "       119.23476657,  99.59610776,  97.77051194, 100.05579317,\n",
       "       115.68147162, 131.43050205, 113.16023679, 104.59298547,\n",
       "       106.98839359, 124.12863737, 110.57294592,  85.51447338,\n",
       "       116.91707784, 111.40291884])"
      ]
     },
     "execution_count": 23,
     "metadata": {},
     "output_type": "execute_result"
    }
   ],
   "source": [
    "data"
   ]
  },
  {
   "cell_type": "code",
   "execution_count": 24,
   "id": "dddb09ba",
   "metadata": {},
   "outputs": [
    {
     "data": {
      "text/plain": [
       "109.51197708074605"
      ]
     },
     "execution_count": 24,
     "metadata": {},
     "output_type": "execute_result"
    }
   ],
   "source": [
    "np.mean(data)"
   ]
  },
  {
   "cell_type": "code",
   "execution_count": 25,
   "id": "5189fa33",
   "metadata": {},
   "outputs": [
    {
     "data": {
      "text/plain": [
       "14.287605770549344"
      ]
     },
     "execution_count": 25,
     "metadata": {},
     "output_type": "execute_result"
    }
   ],
   "source": [
    "np.std(data)"
   ]
  },
  {
   "cell_type": "code",
   "execution_count": 26,
   "id": "27e358f1",
   "metadata": {},
   "outputs": [],
   "source": [
    "null_hypothesis=mean_population"
   ]
  },
  {
   "cell_type": "code",
   "execution_count": 27,
   "id": "15c9f0e7",
   "metadata": {},
   "outputs": [
    {
     "data": {
      "text/plain": [
       "(4.660251733881811, 1.579114441665464e-06)"
      ]
     },
     "execution_count": 27,
     "metadata": {},
     "output_type": "execute_result"
    }
   ],
   "source": [
    "from statsmodels.stats.weightstats import ztest\n",
    "ztest(data,value=null_hypothesis,alternative=\"larger\")"
   ]
  },
  {
   "cell_type": "markdown",
   "id": "da6ee908",
   "metadata": {},
   "source": [
    "**one - sample t test(with respect to one independent sample)\n",
    "\n",
    "two - sample t test(with respect to two independent sample)\n",
    "paird t- test(two sample from the same population on a different time interval)**"
   ]
  },
  {
   "cell_type": "code",
   "execution_count": 28,
   "id": "f54f8fb9",
   "metadata": {},
   "outputs": [],
   "source": [
    "my_cricket_score = [22,38,19,15,48,11,10,49,47,38,10,25,46,10,21,24,29,36,25,25]"
   ]
  },
  {
   "cell_type": "code",
   "execution_count": 46,
   "id": "4dae63e0",
   "metadata": {},
   "outputs": [
    {
     "data": {
      "text/plain": [
       "20"
      ]
     },
     "execution_count": 46,
     "metadata": {},
     "output_type": "execute_result"
    }
   ],
   "source": [
    "len(my_cricket_score)"
   ]
  },
  {
   "cell_type": "code",
   "execution_count": 45,
   "id": "b19310a1",
   "metadata": {},
   "outputs": [
    {
     "data": {
      "text/plain": [
       "27.4"
      ]
     },
     "execution_count": 45,
     "metadata": {},
     "output_type": "execute_result"
    }
   ],
   "source": [
    "np.mean(my_cricket_score)"
   ]
  },
  {
   "cell_type": "code",
   "execution_count": 47,
   "id": "4bdf0004",
   "metadata": {},
   "outputs": [],
   "source": [
    "sample_mean= 27.4"
   ]
  },
  {
   "cell_type": "markdown",
   "id": "5c882762",
   "metadata": {},
   "source": [
    "null_hypothesis=population_mean/true=sample_mean"
   ]
  },
  {
   "cell_type": "code",
   "execution_count": 33,
   "id": "57e62699",
   "metadata": {},
   "outputs": [],
   "source": [
    "import scipy\n",
    "result =scipy.stats.ttest_1samp(my_cricket_score,15)"
   ]
  },
  {
   "cell_type": "code",
   "execution_count": 34,
   "id": "cc49b869",
   "metadata": {},
   "outputs": [
    {
     "data": {
      "text/plain": [
       "TtestResult(statistic=4.131642363779888, pvalue=0.0005672503150661017, df=19)"
      ]
     },
     "execution_count": 34,
     "metadata": {},
     "output_type": "execute_result"
    }
   ],
   "source": [
    "result"
   ]
  },
  {
   "cell_type": "code",
   "execution_count": 94,
   "id": "a0750ea8",
   "metadata": {},
   "outputs": [],
   "source": [
    "p_value =result[1]"
   ]
  },
  {
   "cell_type": "code",
   "execution_count": 95,
   "id": "8f76e9ed",
   "metadata": {},
   "outputs": [
    {
     "name": "stdout",
     "output_type": "stream",
     "text": [
      "reject the null hypothesis\n"
     ]
    }
   ],
   "source": [
    "if p_value<=0.05:\n",
    "    print(\"reject the null hypothesis\")\n",
    "    \n",
    "else:\n",
    "    print(\"accept the null hypothesis\")\n"
   ]
  },
  {
   "cell_type": "code",
   "execution_count": 96,
   "id": "10d9063f",
   "metadata": {},
   "outputs": [
    {
     "data": {
      "text/plain": [
       "TtestResult(statistic=0.0, pvalue=1.0, df=19)"
      ]
     },
     "execution_count": 96,
     "metadata": {},
     "output_type": "execute_result"
    }
   ],
   "source": [
    "scipy.stats.ttest_1samp(my_cricket_score,27.4)"
   ]
  },
  {
   "cell_type": "code",
   "execution_count": 102,
   "id": "15f79f48",
   "metadata": {},
   "outputs": [],
   "source": [
    "p_value=scipy.stats.ttest_1samp(my_cricket_score,26)"
   ]
  },
  {
   "cell_type": "code",
   "execution_count": 103,
   "id": "61daf8d4",
   "metadata": {},
   "outputs": [
    {
     "data": {
      "text/plain": [
       "TtestResult(statistic=0.46647575074934183, pvalue=0.6461790490703262, df=19)"
      ]
     },
     "execution_count": 103,
     "metadata": {},
     "output_type": "execute_result"
    }
   ],
   "source": [
    "p_value"
   ]
  },
  {
   "cell_type": "code",
   "execution_count": 108,
   "id": "aeead605",
   "metadata": {},
   "outputs": [
    {
     "name": "stdout",
     "output_type": "stream",
     "text": [
      "accept the null hypothesis\n"
     ]
    }
   ],
   "source": [
    "if p_value==0.05:\n",
    "    print(\"reject the null hypothesis\")\n",
    "    \n",
    "else:\n",
    "    print(\"accept the null hypothesis\")"
   ]
  },
  {
   "cell_type": "code",
   "execution_count": 132,
   "id": "2573bc9c",
   "metadata": {},
   "outputs": [],
   "source": [
    "#two -sample test(with respect to two independent sample) \n",
    "\n",
    "my_cricket_score = [22,38,29,25,48,11,10,49,47,38,20,25,46,10,21,24,29,36,25,25]\n",
    "\n",
    "virat_cricket_score=[33,45,23,25,46,46,46,49,49,44,44,49,25,31,25,40,30,20,42,37]"
   ]
  },
  {
   "cell_type": "code",
   "execution_count": 133,
   "id": "eb433f56",
   "metadata": {},
   "outputs": [],
   "source": [
    "first_sample_mean=np.mean(my_cricket_score)"
   ]
  },
  {
   "cell_type": "code",
   "execution_count": 134,
   "id": "9ef26a70",
   "metadata": {},
   "outputs": [
    {
     "data": {
      "text/plain": [
       "28.9"
      ]
     },
     "execution_count": 134,
     "metadata": {},
     "output_type": "execute_result"
    }
   ],
   "source": [
    "first_sample_mean"
   ]
  },
  {
   "cell_type": "code",
   "execution_count": 135,
   "id": "24bf3b85",
   "metadata": {},
   "outputs": [],
   "source": [
    "second_sample_mean=np.mean(virat_cricket_score)"
   ]
  },
  {
   "cell_type": "code",
   "execution_count": 136,
   "id": "4783a2e1",
   "metadata": {},
   "outputs": [
    {
     "data": {
      "text/plain": [
       "37.45"
      ]
     },
     "execution_count": 136,
     "metadata": {},
     "output_type": "execute_result"
    }
   ],
   "source": [
    "second_sample_mean"
   ]
  },
  {
   "cell_type": "code",
   "execution_count": 137,
   "id": "97363015",
   "metadata": {},
   "outputs": [
    {
     "ename": "SyntaxError",
     "evalue": "invalid syntax (333160412.py, line 1)",
     "output_type": "error",
     "traceback": [
      "\u001b[1;36m  Cell \u001b[1;32mIn[137], line 1\u001b[1;36m\u001b[0m\n\u001b[1;33m    my_null_hypothesis=both sample mean will be equal\u001b[0m\n\u001b[1;37m                            ^\u001b[0m\n\u001b[1;31mSyntaxError\u001b[0m\u001b[1;31m:\u001b[0m invalid syntax\n"
     ]
    }
   ],
   "source": [
    "my_null_hypothesis=both sample mean will be equal"
   ]
  },
  {
   "cell_type": "code",
   "execution_count": 138,
   "id": "1b36f5fb",
   "metadata": {},
   "outputs": [],
   "source": [
    "t_stats,pvalue=scipy.stats.ttest_ind(my_cricket_score,virat_cricket_score)"
   ]
  },
  {
   "cell_type": "code",
   "execution_count": 139,
   "id": "4538c4cd",
   "metadata": {},
   "outputs": [
    {
     "data": {
      "text/plain": [
       "0.021100205670091743"
      ]
     },
     "execution_count": 139,
     "metadata": {},
     "output_type": "execute_result"
    }
   ],
   "source": [
    "pvalue"
   ]
  },
  {
   "cell_type": "code",
   "execution_count": 142,
   "id": "0b8d8994",
   "metadata": {},
   "outputs": [
    {
     "name": "stdout",
     "output_type": "stream",
     "text": [
      "we reject the null hypothesis\n"
     ]
    }
   ],
   "source": [
    "if pvalue<=0.05:\n",
    "    print(\"we reject the null hypothesis\")\n",
    "    \n",
    "\n",
    "else:\n",
    "    print(\"we accept the null hypothesis\")\n"
   ]
  },
  {
   "cell_type": "code",
   "execution_count": 146,
   "id": "55ca7e82",
   "metadata": {},
   "outputs": [],
   "source": [
    "import random\n",
    "\n",
    "population=[]\n",
    "for i in range(1,51):\n",
    "    population.append(random.randint(10,80))"
   ]
  },
  {
   "cell_type": "code",
   "execution_count": 147,
   "id": "a97b62db",
   "metadata": {},
   "outputs": [
    {
     "data": {
      "text/plain": [
       "50"
      ]
     },
     "execution_count": 147,
     "metadata": {},
     "output_type": "execute_result"
    }
   ],
   "source": [
    "len(population)"
   ]
  },
  {
   "cell_type": "code",
   "execution_count": 151,
   "id": "3442846b",
   "metadata": {},
   "outputs": [],
   "source": [
    "my_cricket_score_from_first_inning=np.random.choice(population,20)"
   ]
  },
  {
   "cell_type": "code",
   "execution_count": 152,
   "id": "2a647a72",
   "metadata": {},
   "outputs": [],
   "source": [
    "my_cricket_score_from_second_inning=np.random.choice(population,20)"
   ]
  },
  {
   "cell_type": "code",
   "execution_count": 153,
   "id": "cf2beab6",
   "metadata": {},
   "outputs": [
    {
     "name": "stdout",
     "output_type": "stream",
     "text": [
      "[26 56 66 12 68 13 12 37 55 64 15 33 16 78 30 44 59 73 16 68]\n",
      "[26 60 54 71 59 70 68 46 60 59 26 75 16 46 77 13 30 59 12 77]\n"
     ]
    }
   ],
   "source": [
    "# paired sample t test\n",
    "# take as sample from a same population on different time interval\n",
    "\n",
    "print(my_cricket_score_from_first_inning)\n",
    "print(my_cricket_score_from_second_inning)"
   ]
  },
  {
   "cell_type": "code",
   "execution_count": 155,
   "id": "0f4a671d",
   "metadata": {},
   "outputs": [
    {
     "data": {
      "text/plain": [
       "42.05"
      ]
     },
     "execution_count": 155,
     "metadata": {},
     "output_type": "execute_result"
    }
   ],
   "source": [
    "np.mean(my_cricket_score_from_first_inning)"
   ]
  },
  {
   "cell_type": "code",
   "execution_count": 156,
   "id": "4aead31f",
   "metadata": {},
   "outputs": [
    {
     "data": {
      "text/plain": [
       "50.2"
      ]
     },
     "execution_count": 156,
     "metadata": {},
     "output_type": "execute_result"
    }
   ],
   "source": [
    "np.mean(my_cricket_score_from_second_inning)"
   ]
  },
  {
   "cell_type": "code",
   "execution_count": null,
   "id": "103fe950",
   "metadata": {},
   "outputs": [],
   "source": [
    "my_null_hypothesis= both sample mean will be equal"
   ]
  },
  {
   "cell_type": "code",
   "execution_count": 159,
   "id": "4a3cddcc",
   "metadata": {
    "scrolled": true
   },
   "outputs": [],
   "source": [
    "# This code is for peer ttest\n",
    "\n",
    "t_stasts,p_value=scipy.stats.ttest_rel(my_cricket_score_from_first_inning,my_cricket_score_from_second_inning)"
   ]
  },
  {
   "cell_type": "code",
   "execution_count": 161,
   "id": "8c2e6a51",
   "metadata": {},
   "outputs": [
    {
     "data": {
      "text/plain": [
       "0.2260429945749853"
      ]
     },
     "execution_count": 161,
     "metadata": {},
     "output_type": "execute_result"
    }
   ],
   "source": [
    "p_value"
   ]
  },
  {
   "cell_type": "code",
   "execution_count": 162,
   "id": "4b2e6813",
   "metadata": {},
   "outputs": [
    {
     "name": "stdout",
     "output_type": "stream",
     "text": [
      "accept the null hypothesis\n"
     ]
    }
   ],
   "source": [
    "if p_value<=0.05:\n",
    "    print(\"reject the null hypothesis\")\n",
    "else:\n",
    "    print(\"accept the null hypothesis\")"
   ]
  },
  {
   "cell_type": "raw",
   "id": "a5492f73",
   "metadata": {},
   "source": [
    "The weights of 25 obese people were taken before enrolling them it to the nutrition camp.The population mean is be found to be 45 kg before starting the camp.After finishig the camp,for the same 25 people,the sample mean was foudnd to be 75 with standard devaition of 25.did the fitness camp work?"
   ]
  },
  {
   "cell_type": "markdown",
   "id": "d196b335",
   "metadata": {},
   "source": [
    "h0===> mu=45(sample mean is a true/population mean)"
   ]
  },
  {
   "cell_type": "markdown",
   "id": "80ff2daa",
   "metadata": {},
   "source": [
    "h1===> mu!=45 (two tailed test)(sample mean is not true/popuation mean)"
   ]
  },
  {
   "cell_type": "code",
   "execution_count": 173,
   "id": "df2f534e",
   "metadata": {},
   "outputs": [],
   "source": [
    "n=25\n",
    "population_mean=45\n",
    "sample_mean=75\n",
    "sample_std=25"
   ]
  },
  {
   "cell_type": "code",
   "execution_count": 174,
   "id": "e5c05c79",
   "metadata": {},
   "outputs": [],
   "source": [
    "t_stats=(sample_mean-population_mean)/(sample_std/np.sqrt(n))"
   ]
  },
  {
   "cell_type": "code",
   "execution_count": 175,
   "id": "7a182fb9",
   "metadata": {},
   "outputs": [
    {
     "data": {
      "text/plain": [
       "6.0"
      ]
     },
     "execution_count": 175,
     "metadata": {},
     "output_type": "execute_result"
    }
   ],
   "source": [
    "t_stats"
   ]
  },
  {
   "cell_type": "code",
   "execution_count": 176,
   "id": "5eafc93c",
   "metadata": {},
   "outputs": [],
   "source": [
    "df=n-1"
   ]
  },
  {
   "cell_type": "code",
   "execution_count": 177,
   "id": "5900fc4b",
   "metadata": {},
   "outputs": [
    {
     "data": {
      "text/plain": [
       "24"
      ]
     },
     "execution_count": 177,
     "metadata": {},
     "output_type": "execute_result"
    }
   ],
   "source": [
    "df"
   ]
  },
  {
   "cell_type": "code",
   "execution_count": 178,
   "id": "de64b549",
   "metadata": {},
   "outputs": [],
   "source": [
    "alpha=0.05"
   ]
  },
  {
   "cell_type": "code",
   "execution_count": 179,
   "id": "22c106a7",
   "metadata": {},
   "outputs": [],
   "source": [
    "CI=0.95"
   ]
  },
  {
   "cell_type": "code",
   "execution_count": 180,
   "id": "80b7beea",
   "metadata": {},
   "outputs": [],
   "source": [
    "critical_value=stats.t.ppf(CI,df)"
   ]
  },
  {
   "cell_type": "code",
   "execution_count": 181,
   "id": "d39bd80a",
   "metadata": {},
   "outputs": [
    {
     "data": {
      "text/plain": [
       "1.7108820799094275"
      ]
     },
     "execution_count": 181,
     "metadata": {},
     "output_type": "execute_result"
    }
   ],
   "source": [
    "critical_value"
   ]
  },
  {
   "cell_type": "code",
   "execution_count": 183,
   "id": "f8e8a30a",
   "metadata": {},
   "outputs": [
    {
     "name": "stdout",
     "output_type": "stream",
     "text": [
      "t_stats 6.0\n",
      "critical_value 1.7108820799094275\n"
     ]
    }
   ],
   "source": [
    "print(\"t_stats\",t_stats)\n",
    "print(\"critical_value\",critical_value)"
   ]
  },
  {
   "cell_type": "code",
   "execution_count": 186,
   "id": "50424c92",
   "metadata": {},
   "outputs": [],
   "source": [
    "p_value=1-stats.t.cdf(t_stats,df)"
   ]
  },
  {
   "cell_type": "code",
   "execution_count": 191,
   "id": "5e31c9b5",
   "metadata": {},
   "outputs": [
    {
     "ename": "SyntaxError",
     "evalue": "unexpected character after line continuation character (1083011907.py, line 1)",
     "output_type": "error",
     "traceback": [
      "\u001b[1;36m  Cell \u001b[1;32mIn[191], line 1\u001b[1;36m\u001b[0m\n\u001b[1;33m    dataset\\=sns.load_dataset('tips')\u001b[0m\n\u001b[1;37m            ^\u001b[0m\n\u001b[1;31mSyntaxError\u001b[0m\u001b[1;31m:\u001b[0m unexpected character after line continuation character\n"
     ]
    }
   ],
   "source": [
    "dataset=sns.load_dataset('tips')"
   ]
  },
  {
   "cell_type": "code",
   "execution_count": 193,
   "id": "f060f335",
   "metadata": {},
   "outputs": [
    {
     "name": "stdout",
     "output_type": "stream",
     "text": [
      "<class 'pandas.core.frame.DataFrame'>\n",
      "RangeIndex: 244 entries, 0 to 243\n",
      "Data columns (total 7 columns):\n",
      " #   Column      Non-Null Count  Dtype   \n",
      "---  ------      --------------  -----   \n",
      " 0   total_bill  244 non-null    float64 \n",
      " 1   tip         244 non-null    float64 \n",
      " 2   sex         244 non-null    category\n",
      " 3   smoker      244 non-null    category\n",
      " 4   day         244 non-null    category\n",
      " 5   time        244 non-null    category\n",
      " 6   size        244 non-null    int64   \n",
      "dtypes: category(4), float64(2), int64(1)\n",
      "memory usage: 7.4 KB\n"
     ]
    }
   ],
   "source": [
    "dataset.info()"
   ]
  },
  {
   "cell_type": "code",
   "execution_count": 194,
   "id": "24466bcd",
   "metadata": {},
   "outputs": [],
   "source": [
    "# This is chi squre test we perform on top of the categorical data"
   ]
  },
  {
   "cell_type": "code",
   "execution_count": 196,
   "id": "63c99a4d",
   "metadata": {},
   "outputs": [
    {
     "data": {
      "text/html": [
       "<div>\n",
       "<style scoped>\n",
       "    .dataframe tbody tr th:only-of-type {\n",
       "        vertical-align: middle;\n",
       "    }\n",
       "\n",
       "    .dataframe tbody tr th {\n",
       "        vertical-align: top;\n",
       "    }\n",
       "\n",
       "    .dataframe thead th {\n",
       "        text-align: right;\n",
       "    }\n",
       "</style>\n",
       "<table border=\"1\" class=\"dataframe\">\n",
       "  <thead>\n",
       "    <tr style=\"text-align: right;\">\n",
       "      <th></th>\n",
       "      <th>total_bill</th>\n",
       "      <th>tip</th>\n",
       "      <th>sex</th>\n",
       "      <th>smoker</th>\n",
       "      <th>day</th>\n",
       "      <th>time</th>\n",
       "      <th>size</th>\n",
       "    </tr>\n",
       "  </thead>\n",
       "  <tbody>\n",
       "    <tr>\n",
       "      <th>0</th>\n",
       "      <td>16.99</td>\n",
       "      <td>1.01</td>\n",
       "      <td>Female</td>\n",
       "      <td>No</td>\n",
       "      <td>Sun</td>\n",
       "      <td>Dinner</td>\n",
       "      <td>2</td>\n",
       "    </tr>\n",
       "    <tr>\n",
       "      <th>1</th>\n",
       "      <td>10.34</td>\n",
       "      <td>1.66</td>\n",
       "      <td>Male</td>\n",
       "      <td>No</td>\n",
       "      <td>Sun</td>\n",
       "      <td>Dinner</td>\n",
       "      <td>3</td>\n",
       "    </tr>\n",
       "    <tr>\n",
       "      <th>2</th>\n",
       "      <td>21.01</td>\n",
       "      <td>3.50</td>\n",
       "      <td>Male</td>\n",
       "      <td>No</td>\n",
       "      <td>Sun</td>\n",
       "      <td>Dinner</td>\n",
       "      <td>3</td>\n",
       "    </tr>\n",
       "    <tr>\n",
       "      <th>3</th>\n",
       "      <td>23.68</td>\n",
       "      <td>3.31</td>\n",
       "      <td>Male</td>\n",
       "      <td>No</td>\n",
       "      <td>Sun</td>\n",
       "      <td>Dinner</td>\n",
       "      <td>2</td>\n",
       "    </tr>\n",
       "    <tr>\n",
       "      <th>4</th>\n",
       "      <td>24.59</td>\n",
       "      <td>3.61</td>\n",
       "      <td>Female</td>\n",
       "      <td>No</td>\n",
       "      <td>Sun</td>\n",
       "      <td>Dinner</td>\n",
       "      <td>4</td>\n",
       "    </tr>\n",
       "  </tbody>\n",
       "</table>\n",
       "</div>"
      ],
      "text/plain": [
       "   total_bill   tip     sex smoker  day    time  size\n",
       "0       16.99  1.01  Female     No  Sun  Dinner     2\n",
       "1       10.34  1.66    Male     No  Sun  Dinner     3\n",
       "2       21.01  3.50    Male     No  Sun  Dinner     3\n",
       "3       23.68  3.31    Male     No  Sun  Dinner     2\n",
       "4       24.59  3.61  Female     No  Sun  Dinner     4"
      ]
     },
     "execution_count": 196,
     "metadata": {},
     "output_type": "execute_result"
    }
   ],
   "source": [
    "dataset.head()"
   ]
  },
  {
   "cell_type": "code",
   "execution_count": 199,
   "id": "9bb67fb3",
   "metadata": {},
   "outputs": [
    {
     "data": {
      "text/html": [
       "<div>\n",
       "<style scoped>\n",
       "    .dataframe tbody tr th:only-of-type {\n",
       "        vertical-align: middle;\n",
       "    }\n",
       "\n",
       "    .dataframe tbody tr th {\n",
       "        vertical-align: top;\n",
       "    }\n",
       "\n",
       "    .dataframe thead th {\n",
       "        text-align: right;\n",
       "    }\n",
       "</style>\n",
       "<table border=\"1\" class=\"dataframe\">\n",
       "  <thead>\n",
       "    <tr style=\"text-align: right;\">\n",
       "      <th></th>\n",
       "      <th>sex</th>\n",
       "      <th>smoker</th>\n",
       "    </tr>\n",
       "  </thead>\n",
       "  <tbody>\n",
       "    <tr>\n",
       "      <th>0</th>\n",
       "      <td>Female</td>\n",
       "      <td>No</td>\n",
       "    </tr>\n",
       "    <tr>\n",
       "      <th>1</th>\n",
       "      <td>Male</td>\n",
       "      <td>No</td>\n",
       "    </tr>\n",
       "    <tr>\n",
       "      <th>2</th>\n",
       "      <td>Male</td>\n",
       "      <td>No</td>\n",
       "    </tr>\n",
       "    <tr>\n",
       "      <th>3</th>\n",
       "      <td>Male</td>\n",
       "      <td>No</td>\n",
       "    </tr>\n",
       "    <tr>\n",
       "      <th>4</th>\n",
       "      <td>Female</td>\n",
       "      <td>No</td>\n",
       "    </tr>\n",
       "    <tr>\n",
       "      <th>...</th>\n",
       "      <td>...</td>\n",
       "      <td>...</td>\n",
       "    </tr>\n",
       "    <tr>\n",
       "      <th>239</th>\n",
       "      <td>Male</td>\n",
       "      <td>No</td>\n",
       "    </tr>\n",
       "    <tr>\n",
       "      <th>240</th>\n",
       "      <td>Female</td>\n",
       "      <td>Yes</td>\n",
       "    </tr>\n",
       "    <tr>\n",
       "      <th>241</th>\n",
       "      <td>Male</td>\n",
       "      <td>Yes</td>\n",
       "    </tr>\n",
       "    <tr>\n",
       "      <th>242</th>\n",
       "      <td>Male</td>\n",
       "      <td>No</td>\n",
       "    </tr>\n",
       "    <tr>\n",
       "      <th>243</th>\n",
       "      <td>Female</td>\n",
       "      <td>No</td>\n",
       "    </tr>\n",
       "  </tbody>\n",
       "</table>\n",
       "<p>244 rows × 2 columns</p>\n",
       "</div>"
      ],
      "text/plain": [
       "        sex smoker\n",
       "0    Female     No\n",
       "1      Male     No\n",
       "2      Male     No\n",
       "3      Male     No\n",
       "4    Female     No\n",
       "..      ...    ...\n",
       "239    Male     No\n",
       "240  Female    Yes\n",
       "241    Male    Yes\n",
       "242    Male     No\n",
       "243  Female     No\n",
       "\n",
       "[244 rows x 2 columns]"
      ]
     },
     "execution_count": 199,
     "metadata": {},
     "output_type": "execute_result"
    }
   ],
   "source": [
    "dataset[[\"sex\",\"smoker\"]]"
   ]
  },
  {
   "cell_type": "code",
   "execution_count": 202,
   "id": "4b0bfd73",
   "metadata": {},
   "outputs": [],
   "source": [
    "import pandas as pd\n",
    "dataset_table=pd.crosstab(dataset[\"sex\"],dataset[\"smoker\"])"
   ]
  },
  {
   "cell_type": "code",
   "execution_count": 203,
   "id": "b9f31fd9",
   "metadata": {},
   "outputs": [
    {
     "data": {
      "text/html": [
       "<div>\n",
       "<style scoped>\n",
       "    .dataframe tbody tr th:only-of-type {\n",
       "        vertical-align: middle;\n",
       "    }\n",
       "\n",
       "    .dataframe tbody tr th {\n",
       "        vertical-align: top;\n",
       "    }\n",
       "\n",
       "    .dataframe thead th {\n",
       "        text-align: right;\n",
       "    }\n",
       "</style>\n",
       "<table border=\"1\" class=\"dataframe\">\n",
       "  <thead>\n",
       "    <tr style=\"text-align: right;\">\n",
       "      <th>smoker</th>\n",
       "      <th>Yes</th>\n",
       "      <th>No</th>\n",
       "    </tr>\n",
       "    <tr>\n",
       "      <th>sex</th>\n",
       "      <th></th>\n",
       "      <th></th>\n",
       "    </tr>\n",
       "  </thead>\n",
       "  <tbody>\n",
       "    <tr>\n",
       "      <th>Male</th>\n",
       "      <td>60</td>\n",
       "      <td>97</td>\n",
       "    </tr>\n",
       "    <tr>\n",
       "      <th>Female</th>\n",
       "      <td>33</td>\n",
       "      <td>54</td>\n",
       "    </tr>\n",
       "  </tbody>\n",
       "</table>\n",
       "</div>"
      ],
      "text/plain": [
       "smoker  Yes  No\n",
       "sex            \n",
       "Male     60  97\n",
       "Female   33  54"
      ]
     },
     "execution_count": 203,
     "metadata": {},
     "output_type": "execute_result"
    }
   ],
   "source": [
    "dataset_table"
   ]
  },
  {
   "cell_type": "code",
   "execution_count": 240,
   "id": "8ea99d66",
   "metadata": {},
   "outputs": [],
   "source": [
    "dataset_array=dataset_table.values"
   ]
  },
  {
   "cell_type": "code",
   "execution_count": 242,
   "id": "7041fbeb",
   "metadata": {},
   "outputs": [],
   "source": [
    "observed_value=dataset_array"
   ]
  },
  {
   "cell_type": "code",
   "execution_count": 207,
   "id": "a0960d7c",
   "metadata": {},
   "outputs": [],
   "source": [
    "import scipy.stats as stats"
   ]
  },
  {
   "cell_type": "code",
   "execution_count": 210,
   "id": "3dd2b4fb",
   "metadata": {},
   "outputs": [],
   "source": [
    "stats_test,p,dof,Expected_value=stats.chi2_contingency(dataset_array)"
   ]
  },
  {
   "cell_type": "code",
   "execution_count": 211,
   "id": "3657f400",
   "metadata": {},
   "outputs": [
    {
     "data": {
      "text/plain": [
       "array([[59.84016393, 97.15983607],\n",
       "       [33.15983607, 53.84016393]])"
      ]
     },
     "execution_count": 211,
     "metadata": {},
     "output_type": "execute_result"
    }
   ],
   "source": [
    "Expected_value"
   ]
  },
  {
   "cell_type": "code",
   "execution_count": 222,
   "id": "fcd1a5ca",
   "metadata": {},
   "outputs": [],
   "source": [
    "no_of_col=dataset_table.iloc[0:2,0]"
   ]
  },
  {
   "cell_type": "code",
   "execution_count": 223,
   "id": "2dc586e4",
   "metadata": {},
   "outputs": [
    {
     "data": {
      "text/plain": [
       "2"
      ]
     },
     "execution_count": 223,
     "metadata": {},
     "output_type": "execute_result"
    }
   ],
   "source": [
    "len(no_of_col)"
   ]
  },
  {
   "cell_type": "code",
   "execution_count": 227,
   "id": "baffdfe1",
   "metadata": {},
   "outputs": [],
   "source": [
    "no_of_row=dataset_table.iloc[0,0:2]"
   ]
  },
  {
   "cell_type": "code",
   "execution_count": 228,
   "id": "01c82f6b",
   "metadata": {},
   "outputs": [
    {
     "data": {
      "text/plain": [
       "2"
      ]
     },
     "execution_count": 228,
     "metadata": {},
     "output_type": "execute_result"
    }
   ],
   "source": [
    "len(no_of_row)"
   ]
  },
  {
   "cell_type": "code",
   "execution_count": 237,
   "id": "8e5e6adc",
   "metadata": {},
   "outputs": [],
   "source": [
    "# dof means degree of freedom\n",
    "dof=(len(no_of_col)-1)*(len(no_of_row)-1)"
   ]
  },
  {
   "cell_type": "code",
   "execution_count": 238,
   "id": "d1f0ab81",
   "metadata": {},
   "outputs": [
    {
     "data": {
      "text/plain": [
       "1"
      ]
     },
     "execution_count": 238,
     "metadata": {},
     "output_type": "execute_result"
    }
   ],
   "source": [
    "dof"
   ]
  },
  {
   "cell_type": "code",
   "execution_count": 247,
   "id": "ffb10250",
   "metadata": {},
   "outputs": [
    {
     "name": "stdout",
     "output_type": "stream",
     "text": [
      "[60 97] [59.84016393 97.15983607]\n",
      "[33 54] [33.15983607 53.84016393]\n"
     ]
    }
   ],
   "source": [
    "for o,e in zip(observed_value,Expected_value):\n",
    "    print(o,e)\n",
    "    \n"
   ]
  },
  {
   "cell_type": "code",
   "execution_count": 253,
   "id": "f2f652d4",
   "metadata": {},
   "outputs": [],
   "source": [
    "from scipy.stats import chi2\n",
    "chisquare=sum([(o-e)**2/e for o,e in zip(observed_value,Expected_value)])"
   ]
  },
  {
   "cell_type": "code",
   "execution_count": 255,
   "id": "37f0c721",
   "metadata": {},
   "outputs": [
    {
     "data": {
      "text/plain": [
       "array([0.00119737, 0.00073745])"
      ]
     },
     "execution_count": 255,
     "metadata": {},
     "output_type": "execute_result"
    }
   ],
   "source": [
    "chisquare"
   ]
  },
  {
   "cell_type": "code",
   "execution_count": 259,
   "id": "8a356573",
   "metadata": {},
   "outputs": [],
   "source": [
    "chisquarestats=chisquare[0]+chisquare[1]"
   ]
  },
  {
   "cell_type": "code",
   "execution_count": 260,
   "id": "acb50260",
   "metadata": {},
   "outputs": [
    {
     "data": {
      "text/plain": [
       "0.001934818536627623"
      ]
     },
     "execution_count": 260,
     "metadata": {},
     "output_type": "execute_result"
    }
   ],
   "source": [
    "chisquarestats"
   ]
  },
  {
   "cell_type": "code",
   "execution_count": 269,
   "id": "7c2ae5a5",
   "metadata": {},
   "outputs": [],
   "source": [
    "alpha=0.5\n",
    "ci=0.95"
   ]
  },
  {
   "cell_type": "code",
   "execution_count": 270,
   "id": "b6debfad",
   "metadata": {},
   "outputs": [],
   "source": [
    "critical_chi_value=chi2.ppf(ci,df=dof)"
   ]
  },
  {
   "cell_type": "code",
   "execution_count": 273,
   "id": "8e1eb868",
   "metadata": {},
   "outputs": [
    {
     "data": {
      "text/plain": [
       "3.841458820694124"
      ]
     },
     "execution_count": 273,
     "metadata": {},
     "output_type": "execute_result"
    }
   ],
   "source": [
    "critical_chi_value"
   ]
  },
  {
   "cell_type": "code",
   "execution_count": 274,
   "id": "1f805bc3",
   "metadata": {},
   "outputs": [
    {
     "name": "stdout",
     "output_type": "stream",
     "text": [
      "accept the null hypothesis,there is no relation with the two categrical variable\n"
     ]
    }
   ],
   "source": [
    "if chisquarestats>=critical_chi_value:\n",
    "    print(\"reject the null hypothesis,there is a relationship two categorical variable\")\n",
    "    \n",
    "else:\n",
    "    print(\"accept the null hypothesis,there is no relation with the two categrical variable\")"
   ]
  },
  {
   "cell_type": "code",
   "execution_count": null,
   "id": "35fc3be2",
   "metadata": {},
   "outputs": [],
   "source": []
  },
  {
   "cell_type": "code",
   "execution_count": null,
   "id": "34e68999",
   "metadata": {},
   "outputs": [],
   "source": []
  }
 ],
 "metadata": {
  "kernelspec": {
   "display_name": "Python 3 (ipykernel)",
   "language": "python",
   "name": "python3"
  },
  "language_info": {
   "codemirror_mode": {
    "name": "ipython",
    "version": 3
   },
   "file_extension": ".py",
   "mimetype": "text/x-python",
   "name": "python",
   "nbconvert_exporter": "python",
   "pygments_lexer": "ipython3",
   "version": "3.10.9"
  }
 },
 "nbformat": 4,
 "nbformat_minor": 5
}
